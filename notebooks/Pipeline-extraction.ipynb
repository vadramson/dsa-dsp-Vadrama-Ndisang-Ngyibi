{
 "cells": [
  {
   "cell_type": "markdown",
   "metadata": {},
   "source": [
    "# Activate Auto Reload in Jupyter Notebook"
   ]
  },
  {
   "cell_type": "code",
   "execution_count": 1,
   "metadata": {},
   "outputs": [],
   "source": [
    "%load_ext autoreload\n",
    "%autoreload 2"
   ]
  },
  {
   "cell_type": "markdown",
   "metadata": {},
   "source": [
    "**Library Import**"
   ]
  },
  {
   "cell_type": "code",
   "execution_count": 2,
   "metadata": {},
   "outputs": [],
   "source": [
    "from pathlib import Path\n",
    "import pandas as pd\n",
    "from sklearn.model_selection import train_test_split\n",
    "from sklearn.linear_model import LinearRegression\n",
    "import joblib\n",
    "import numpy as np\n",
    "from sklearn.metrics import mean_squared_log_error"
   ]
  },
  {
   "cell_type": "code",
   "execution_count": 3,
   "metadata": {},
   "outputs": [],
   "source": [
    "def data_path(main_path):\n",
    "    ROOT_DIR = Path('.').resolve().parents[1].absolute()\n",
    "    ROOT_DIR = Path('.').resolve().parents[1].absolute()\n",
    "    # DATA_DIR = ROOT_DIR / 'dsa-dsp-Vadrama-Ndisang-Ngyibi' / 'data'\n",
    "    ROOT_DIR = ROOT_DIR / 'dsa-dsp-Vadrama-Ndisang-Ngyibi'\n",
    "    DATA_DIR = ROOT_DIR / main_path\n",
    "    \n",
    "    df_master = pd.read_csv(DATA_DIR / 'train.csv', index_col='Id')\n",
    "    inference_df = pd.read_csv(DATA_DIR / 'test.csv', index_col='Id')\n",
    "    \n",
    "    return df_master, inference_df, ROOT_DIR"
   ]
  },
  {
   "cell_type": "code",
   "execution_count": 4,
   "metadata": {},
   "outputs": [],
   "source": [
    "def training_data_preprocessing(df_master):\n",
    "    # Handling Continous Data\n",
    "    df_continuous = df_master.select_dtypes(include='number')\n",
    "    df_continuous = df_continuous.dropna()\n",
    "    \n",
    "    # Handling Categorical Data\n",
    "    df_categorical = df_master.select_dtypes(exclude='number')\n",
    "    one_hot_encoder_get_dummies = pd.get_dummies(df_categorical, prefix=None, prefix_sep='_', dummy_na=False, columns=None, sparse=False, drop_first=False, dtype=None)\n",
    "    \n",
    "    \n",
    "    # Get the indexes of the continuous variables so as to slice the corresponding rows from the cat Vars\n",
    "    continuous_inference_indexes = list(df_continuous.index)\n",
    "    one_hot_encoder_get_dummies = one_hot_encoder_get_dummies.loc[continuous_inference_indexes]\n",
    "    \n",
    "    \n",
    "    # Joining the Continuous and Categorical variables together\n",
    "    df_final_one_hot_encoder = pd.concat([df_continuous,one_hot_encoder_get_dummies] , axis=1)\n",
    "    \n",
    "    # Getting column names\n",
    "    col_names_train = list(df_final_one_hot_encoder.columns)\n",
    "    \n",
    "    return df_final_one_hot_encoder, col_names_train"
   ]
  },
  {
   "cell_type": "code",
   "execution_count": 5,
   "metadata": {},
   "outputs": [],
   "source": [
    "def testing_data_preprocessing(inference_df):\n",
    "    # Handling Continous Data\n",
    "    continuous_inference_df = inference_df.select_dtypes(include='number')\n",
    "    continuous_inference_df = continuous_inference_df.dropna()\n",
    "    \n",
    "    # Handling Categorical Data\n",
    "    categorical_inference_df = inference_df.select_dtypes(exclude='number')\n",
    "    one_hot_encoder_get_dummies_categorical_inference = pd.get_dummies(categorical_inference_df, prefix=None, prefix_sep='_', dummy_na=False, columns=None, sparse=False, drop_first=False, dtype=None)\n",
    "    \n",
    "\n",
    "    # Get the indexes of the continuous variables and slice the corresponding rows from the cat Vars\n",
    "    continuous_inference_indexes = list(continuous_inference_df.index)\n",
    "    one_hot_encoder_get_dummies_categorical_inference = one_hot_encoder_get_dummies_categorical_inference.loc[continuous_inference_indexes]\n",
    "\n",
    "    \n",
    "    # Joining the Continuous and Categorical variables together\n",
    "    df_final_inference_one_hot_encoder = pd.concat([continuous_inference_df,one_hot_encoder_get_dummies_categorical_inference] , axis=1)\n",
    "    \n",
    "    \n",
    "    # Getting column names\n",
    "    col_names_inference = list(df_final_inference_one_hot_encoder.columns)\n",
    "    \n",
    "    return df_final_inference_one_hot_encoder, col_names_inference"
   ]
  },
  {
   "cell_type": "code",
   "execution_count": 6,
   "metadata": {},
   "outputs": [],
   "source": [
    "def col_names(col_names_train, col_names_inference):\n",
    "    col_names_train_set = set(col_names_train)\n",
    "    col_names_inference_set = set(col_names_inference)\n",
    "      \n",
    "    # check length \n",
    "    if len(col_names_train_set.intersection(col_names_inference_set)) > 0:\n",
    "        return list(col_names_train_set.intersection(col_names_inference_set))  \n",
    "    else:\n",
    "        return []"
   ]
  },
  {
   "cell_type": "code",
   "execution_count": 7,
   "metadata": {},
   "outputs": [],
   "source": [
    "def compute_rmsle(y_test: np.ndarray, y_pred: np.ndarray, precision: int = 2) -> float:\n",
    "    rmsle = np.sqrt(mean_squared_log_error(y_test, y_pred))\n",
    "    return round(rmsle, precision)"
   ]
  },
  {
   "cell_type": "code",
   "execution_count": 8,
   "metadata": {},
   "outputs": [],
   "source": [
    "df_master, inference_df, base_path = data_path('data')\n",
    "model_path = base_path / 'models'\n",
    "\n",
    "def training(df_master, inference_df, model_path):\n",
    "    target_column = 'SalePrice'\n",
    "    \n",
    "    df_final_one_hot_encoder, col_names_train = training_data_preprocessing(df_master)\n",
    "    f_final_inference_one_hot_encoder, col_names_inference = testing_data_preprocessing(inference_df)\n",
    "    col_names_lst = col_names(col_names_train, col_names_inference)\n",
    "    \n",
    "    \n",
    "    # Splitting Dependent(y) and independent Variables(X)\n",
    "    X_one_hot, y_one_hot = df_final_one_hot_encoder.drop(target_column, axis=1), df_final_one_hot_encoder[target_column]\n",
    "    X_one_hot = X_one_hot[col_names_lst]\n",
    "    \n",
    "    # Splitting data for training and Testing\n",
    "    X_train_one_hot, X_test_one_hot, y_train_one_hot, y_test_one_hot = train_test_split(X_one_hot, y_one_hot, test_size=0.2)\n",
    "    \n",
    "    \n",
    "    # Model Training\n",
    "    model_one_hot = LinearRegression()\n",
    "    model_one_hot.fit(X_train_one_hot, y_train_one_hot)\n",
    "    \n",
    "    # Model Saving\n",
    "    joblib_file = model_path/\"car_price_Model__V1.pkl\"  \n",
    "    joblib.dump(model_one_hot, joblib_file)\n",
    "    \n",
    "    # Model Performance\n",
    "    y_pred_one_hot = model_one_hot.predict(X_test_one_hot)\n",
    "    # Replace negative predictions with 0\n",
    "    y_pred_one_hot = np.where(y_pred_one_hot < 0, 0, y_pred_one_hot)\n",
    "    model_pef = compute_rmsle(y_test_one_hot, y_pred_one_hot)\n",
    "    \n",
    "    return {\"model_performance\": model_pef, \"model_path\": str(model_path)} "
   ]
  },
  {
   "cell_type": "code",
   "execution_count": 9,
   "metadata": {},
   "outputs": [
    {
     "data": {
      "text/plain": [
       "{'model_performance': 0.83,\n",
       " 'model_path': 'E:\\\\My Stuff\\\\Documents\\\\EPITA\\\\DSA  Spring Semester\\\\DSP\\\\dsa-dsp-Vadrama-Ndisang-Ngyibi\\\\models'}"
      ]
     },
     "execution_count": 9,
     "metadata": {},
     "output_type": "execute_result"
    }
   ],
   "source": [
    "df_master, inference_df, base_path = data_path('data')\n",
    "model_path = base_path / 'models'\n",
    "\n",
    "training(df_master, inference_df, model_path)"
   ]
  },
  {
   "cell_type": "code",
   "execution_count": 12,
   "metadata": {},
   "outputs": [],
   "source": [
    "df_master, inference_df, base_path = data_path('data')\n",
    "model_path = base_path / 'models'\n",
    "\n",
    "def make_predictions(inference_df, model_path):\n",
    "#     f_final_inference_one_hot_encoder, col_names_inference = testing_data_preprocessing(inference_df)\n",
    "    joblib_LR_model = joblib.load(model_path/\"car_price_Model__V1.pkl\" )\n",
    "    joblib_LR_model"
   ]
  },
  {
   "cell_type": "code",
   "execution_count": 10,
   "metadata": {},
   "outputs": [],
   "source": [
    "def data_preprocessing(df_master, inference_df):    \n",
    "    ROOT_DIR = Path('.').resolve().parents[1].absolute()\n",
    "    ROOT_DIR = Path('.').resolve().parents[1].absolute()\n",
    "#     DATA_DIR = ROOT_DIR / 'dsa-dsp-Vadrama-Ndisang-Ngyibi' / 'data'\n",
    "    DATA_DIR = ROOT_DIR / main_path\n",
    "\n",
    "    target_column = 'SalePrice'\n",
    "    df_master = pd.read_csv(DATA_DIR / 'train.csv', index_col='Id')\n",
    "    inference_df = pd.read_csv(DATA_DIR / 'test.csv', index_col='Id')\n",
    "    \n",
    "    \n",
    "    "
   ]
  }
 ],
 "metadata": {
  "kernelspec": {
   "display_name": "py3-TF2.0",
   "language": "python",
   "name": "py3-tf2.0"
  },
  "language_info": {
   "codemirror_mode": {
    "name": "ipython",
    "version": 3
   },
   "file_extension": ".py",
   "mimetype": "text/x-python",
   "name": "python",
   "nbconvert_exporter": "python",
   "pygments_lexer": "ipython3",
   "version": "3.9.1"
  },
  "nbTranslate": {
   "displayLangs": [
    "*"
   ],
   "hotkey": "alt-t",
   "langInMainMenu": true,
   "sourceLang": "en",
   "targetLang": "fr",
   "useGoogleTranslate": true
  },
  "toc": {
   "base_numbering": 1,
   "nav_menu": {},
   "number_sections": true,
   "sideBar": true,
   "skip_h1_title": false,
   "title_cell": "Table of Contents",
   "title_sidebar": "Contents",
   "toc_cell": false,
   "toc_position": {},
   "toc_section_display": true,
   "toc_window_display": false
  },
  "varInspector": {
   "cols": {
    "lenName": 16,
    "lenType": 16,
    "lenVar": 40
   },
   "kernels_config": {
    "python": {
     "delete_cmd_postfix": "",
     "delete_cmd_prefix": "del ",
     "library": "var_list.py",
     "varRefreshCmd": "print(var_dic_list())"
    },
    "r": {
     "delete_cmd_postfix": ") ",
     "delete_cmd_prefix": "rm(",
     "library": "var_list.r",
     "varRefreshCmd": "cat(var_dic_list()) "
    }
   },
   "types_to_exclude": [
    "module",
    "function",
    "builtin_function_or_method",
    "instance",
    "_Feature"
   ],
   "window_display": false
  }
 },
 "nbformat": 4,
 "nbformat_minor": 4
}
